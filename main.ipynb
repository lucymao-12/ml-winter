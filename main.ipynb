{
 "cells": [
  {
   "cell_type": "code",
   "execution_count": 2,
   "metadata": {},
   "outputs": [],
   "source": [
    "## IMPORTS\n",
    "import torch\n",
    "import numpy as np\n",
    "import matplotlib.pyplot as plt\n",
    "import torch.nn as nn\n",
    "import torch.nn.functional as F\n",
    "import torchvision\n",
    "import torchvision.transforms as transforms\n",
    "from torch.utils.data import Dataset, DataLoader\n",
    "import pandas as pd"
   ]
  },
  {
   "cell_type": "code",
   "execution_count": 4,
   "metadata": {},
   "outputs": [
    {
     "name": "stdout",
     "output_type": "stream",
     "text": [
      "Is GPU available: True\n",
      "Number of GPUS: 1\n"
     ]
    }
   ],
   "source": [
    "## some random stuff\n",
    "# Check if pytorch can access the GPU\n",
    "print(\"Is GPU available:\", torch.cuda.is_available())\n",
    "print(\"Number of GPUS:\", torch.cuda.device_count())\n",
    "\n",
    "letters = ['A', 'B', 'C', 'D', 'E', 'F', 'G', 'H', 'I', 'J', 'K', \n",
    "           'L', 'M', 'N', 'O', 'P', 'Q', 'R', 'S', 'T', 'U', \n",
    "           'V', 'W', 'X', 'Y', 'Z']\n",
    "\n",
    "device = torch.device(\"cuda:0\" if torch.cuda.is_available() else \"cpu\")\n"
   ]
  },
  {
   "cell_type": "code",
   "execution_count": 39,
   "metadata": {},
   "outputs": [
    {
     "name": "stdout",
     "output_type": "stream",
     "text": [
      "<__main__.Dataset object at 0x000001F0319AEA50>\n"
     ]
    }
   ],
   "source": [
    "## imprort the dataset\n",
    "train_df = pd.read_csv('sign_mnist_train\\sign_mnist_train.csv')\n",
    "test_df = pd.read_csv('sign_mnist_test\\sign_mnist_test.csv')\n",
    "\n",
    "class Dataset(Dataset):\n",
    "    def __init__(self, data, transform=None):\n",
    "        self.data = data\n",
    "        self.transform = transform\n",
    "    def __len__(self):\n",
    "        return len(self.data)\n",
    "    def __getitem__(self, index):\n",
    "        label = self.data.iloc[index, 0]\n",
    "        image = self.data.iloc[index, 1:].values.astype(np.uint8).reshape((28, 28, 1))\n",
    "        if self.transform is not None:\n",
    "            image = self.transform(image)\n",
    "        \n",
    "        image = torch.tensor(image, dtype=torch.float)\n",
    "        label = torch.tensor(label, dtype=torch.long)\n",
    "        return image, label\n",
    "transforms = transforms.Compose([transforms.ToPILImage(), transforms.ToTensor(), transforms.Normalize((0.5,), (0.5,))])\n",
    "\n",
    "\n",
    "train_set = Dataset(train_df, transform=transforms)\n",
    "test_set = Dataset(test_df, transform=transforms)\n",
    "# create dataloaders\n",
    "test_loader = torch.utils.data.DataLoader(test_set, batch_size=32, shuffle=True)\n",
    "train_loader = torch.utils.data.DataLoader(train_set, batch_size=32, shuffle=True)\n",
    "# some other info\n",
    "test_length = len(test_df)\n",
    "train_length = len(train_df)\n",
    "\n"
   ]
  },
  {
   "cell_type": "code",
   "execution_count": 91,
   "metadata": {},
   "outputs": [
    {
     "data": {
      "image/png": "[encoded data removed]",
      "text/plain": [
       "<Figure size 1000x1000 with 5 Axes>"
      ]
     },
     "metadata": {},
     "output_type": "display_data"
    }
   ],
   "source": [
    "## display images\n",
    "def display_images(num_images, df):\n",
    "    # Set up the matplotlib figure\n",
    "    fig, axes = plt.subplots(1, num_images, figsize=(10, 10))\n",
    "\n",
    "    for i in range(num_images):\n",
    "        # Assuming the first column is the label\n",
    "        img = df.iloc[i, 1:].values.reshape(28, 28)\n",
    "        label = df.iloc[i, 0]\n",
    "\n",
    "        axes[i].imshow(img, cmap='gray')\n",
    "        axes[i].set_title(f'Label: {letters[label]}')\n",
    "        axes[i].axis('off')\n",
    "\n",
    "    plt.show()\n",
    "display_images(5, train_df)"
   ]
  },
  {
   "cell_type": "code",
   "execution_count": 20,
   "metadata": {},
   "outputs": [],
   "source": [
    "## set up cnn\n",
    "class CNN(nn.Module):\n",
    "    def __init__(self):\n",
    "        super(CNN, self).__init__()\n",
    "        self.conv1 = nn.Conv2d(in_channels=1, out_channels=16, kernel_size=3, padding=1)\n",
    "        self.conv2 = nn.Conv2d(in_channels=16, out_channels=32, kernel_size=3, padding=1)\n",
    "\n",
    "        self.pool = nn.MaxPool2d(kernel_size=2, stride=2)\n",
    "\n",
    "        self.fc1 = nn.Linear(in_features=32*7*7, out_features=500)\n",
    "        self.fc2 = nn.Linear(in_features=500, out_features=25) ## 25 classes, for each letter of the alphabet\n",
    "\n",
    "    def forward(self, x):\n",
    "        x = self.pool(F.relu(self.conv1(x)))\n",
    "        x = self.pool(F.relu(self.conv2(x)))\n",
    "\n",
    "        # reshape the tensor\n",
    "        x = x.view(-1, 32*7*7)\n",
    "\n",
    "        x = F.relu(self.fc1(x))\n",
    "        x = self.fc2(x)\n",
    "        return x\n",
    "\n"
   ]
  },
  {
   "cell_type": "code",
   "execution_count": 21,
   "metadata": {},
   "outputs": [
    {
     "name": "stdout",
     "output_type": "stream",
     "text": [
      "CNN(\n",
      "  (conv1): Conv2d(1, 16, kernel_size=(3, 3), stride=(1, 1), padding=(1, 1))\n",
      "  (conv2): Conv2d(16, 32, kernel_size=(3, 3), stride=(1, 1), padding=(1, 1))\n",
      "  (pool): MaxPool2d(kernel_size=2, stride=2, padding=0, dilation=1, ceil_mode=False)\n",
      "  (fc1): Linear(in_features=1568, out_features=500, bias=True)\n",
      "  (fc2): Linear(in_features=500, out_features=25, bias=True)\n",
      ")\n"
     ]
    }
   ],
   "source": [
    "#instantiate the model\n",
    "model = CNN()\n",
    "print(model)\n",
    "\n",
    "criterion = nn.CrossEntropyLoss()\n",
    "optimizer = torch.optim.Adam(model.parameters(), lr=0.001)"
   ]
  },
  {
   "cell_type": "code",
   "execution_count": 57,
   "metadata": {},
   "outputs": [],
   "source": [
    "## training loop\n",
    "def train(parameters, model, train_loader):\n",
    "    epochs = parameters['epochs']\n",
    "    criterion = parameters['criterion']\n",
    "    optimizer = parameters['optimizer']\n",
    "    device = parameters['device']\n",
    "    model = model.to(device)\n",
    "    train_losses = []\n",
    "    test_losses = []\n",
    "    train_corrects = []\n",
    "    test_corrects = []\n",
    "    for i in range(epochs):\n",
    "        trn_corr = 0\n",
    "        tst_corr = 0\n",
    "        for b, (X_train, y_train) in enumerate(train_loader):\n",
    "            X_train = X_train.to(device)\n",
    "            y_train = y_train.to(device)\n",
    "            b+=1\n",
    "            y_pred = model(X_train)\n",
    "            loss = criterion(y_pred, y_train)\n",
    "            train_losses.append(loss)\n",
    "\n",
    "            predicted = torch.max(y_pred.data, 1)[1]\n",
    "            batch_corr = (predicted == y_train).sum()\n",
    "            trn_corr += batch_corr\n",
    "            train_corrects.append(trn_corr)\n",
    "\n",
    "            optimizer.zero_grad()\n",
    "            loss.backward()\n",
    "            optimizer.step()\n",
    "\n",
    "            if b%200 == 0:\n",
    "                print(f'epoch: {i:2}  batch: {b:4} [{10*b:6}/{60000}]  loss: {loss.item():10.8f} accuracy: {trn_corr.item()*100/(32*b):7.3f}%')\n",
    "        test_correct, test_loss = evaluate(model, test_loader, criterion=criterion)    \n",
    "        test_corrects.append(tst_corr)\n",
    "        test_losses.append(test_loss)\n",
    "    return (train_losses, test_losses, train_corrects, test_corrects)\n",
    "def evaluate(model, test_loader, criterion):\n",
    "    correct = 0\n",
    "    with torch.no_grad():\n",
    "        for b, (X_test, y_test) in enumerate(test_loader):\n",
    "            X_test = X_test.to(device)\n",
    "            y_test = y_test.to(device)\n",
    "            y_val = model(X_test)\n",
    "            loss = criterion(y_val, y_test)\n",
    "            predicted = torch.max(y_val.data, 1)[1]\n",
    "            correct += (predicted == y_test).sum()\n",
    "    print(f'Test accuracy: {correct.item()}/{test_length} = {correct.item()*100/(test_length):7.3f}%')\n",
    "    return correct.item()*100/(test_length), loss"
   ]
  },
  {
   "cell_type": "code",
   "execution_count": 58,
   "metadata": {},
   "outputs": [
    {
     "name": "stderr",
     "output_type": "stream",
     "text": [
      "C:\\Users\\Lucy\\AppData\\Local\\Temp\\ipykernel_5520\\1300528031.py:17: UserWarning: To copy construct from a tensor, it is recommended to use sourceTensor.clone().detach() or sourceTensor.clone().detach().requires_grad_(True), rather than torch.tensor(sourceTensor).\n",
      "  image = torch.tensor(image, dtype=torch.float)\n"
     ]
    },
    {
     "name": "stdout",
     "output_type": "stream",
     "text": [
      "epoch:  0  batch:  200 [  2000/60000]  loss: 0.00000093 accuracy: 100.000%\n",
      "epoch:  0  batch:  400 [  4000/60000]  loss: 0.00000039 accuracy: 100.000%\n",
      "epoch:  0  batch:  600 [  6000/60000]  loss: 0.00000205 accuracy: 100.000%\n",
      "epoch:  0  batch:  800 [  8000/60000]  loss: 0.02138916 accuracy:  98.926%\n",
      "Test accuracy: 6701/7172 =  93.433%\n",
      "epoch:  1  batch:  200 [  2000/60000]  loss: 0.00131405 accuracy:  99.969%\n",
      "epoch:  1  batch:  400 [  4000/60000]  loss: 0.00012248 accuracy:  99.984%\n",
      "epoch:  1  batch:  600 [  6000/60000]  loss: 0.00025571 accuracy:  99.990%\n",
      "epoch:  1  batch:  800 [  8000/60000]  loss: 0.00012422 accuracy:  99.992%\n",
      "Test accuracy: 6753/7172 =  94.158%\n",
      "epoch:  2  batch:  200 [  2000/60000]  loss: 0.00017579 accuracy: 100.000%\n",
      "epoch:  2  batch:  400 [  4000/60000]  loss: 0.00003471 accuracy: 100.000%\n",
      "epoch:  2  batch:  600 [  6000/60000]  loss: 0.00003635 accuracy: 100.000%\n",
      "epoch:  2  batch:  800 [  8000/60000]  loss: 0.00001073 accuracy: 100.000%\n",
      "Test accuracy: 6759/7172 =  94.241%\n",
      "epoch:  3  batch:  200 [  2000/60000]  loss: 0.00003784 accuracy: 100.000%\n",
      "epoch:  3  batch:  400 [  4000/60000]  loss: 0.00003066 accuracy: 100.000%\n",
      "epoch:  3  batch:  600 [  6000/60000]  loss: 0.00009551 accuracy: 100.000%\n",
      "epoch:  3  batch:  800 [  8000/60000]  loss: 0.00003621 accuracy: 100.000%\n",
      "Test accuracy: 6756/7172 =  94.200%\n",
      "epoch:  4  batch:  200 [  2000/60000]  loss: 0.00005686 accuracy: 100.000%\n",
      "epoch:  4  batch:  400 [  4000/60000]  loss: 0.00001014 accuracy: 100.000%\n",
      "epoch:  4  batch:  600 [  6000/60000]  loss: 0.00004669 accuracy: 100.000%\n",
      "epoch:  4  batch:  800 [  8000/60000]  loss: 0.00001287 accuracy: 100.000%\n",
      "Test accuracy: 6761/7172 =  94.269%\n"
     ]
    }
   ],
   "source": [
    "parameters = {'epochs': 5, 'criterion': criterion, 'optimizer': optimizer, 'device': device}\n",
    "train_losses, test_losses, train_correct, test_correct = train(parameters, model, train_loader)"
   ]
  },
  {
   "cell_type": "code",
   "execution_count": 106,
   "metadata": {},
   "outputs": [
    {
     "name": "stdout",
     "output_type": "stream",
     "text": [
      "Label: L\n"
     ]
    },
    {
     "name": "stderr",
     "output_type": "stream",
     "text": [
      "C:\\Users\\Lucy\\AppData\\Local\\Temp\\ipykernel_5520\\1300528031.py:17: UserWarning: To copy construct from a tensor, it is recommended to use sourceTensor.clone().detach() or sourceTensor.clone().detach().requires_grad_(True), rather than torch.tensor(sourceTensor).\n",
      "  image = torch.tensor(image, dtype=torch.float)\n"
     ]
    },
    {
     "data": {
      "image/png": "[encoded data removed]",
      "text/plain": [
       "<Figure size 640x480 with 1 Axes>"
      ]
     },
     "metadata": {},
     "output_type": "display_data"
    },
    {
     "name": "stdout",
     "output_type": "stream",
     "text": [
      "Prediction: L\n"
     ]
    }
   ],
   "source": [
    "## okay so now i need to create the user friendly parts\n",
    "\n",
    "## create a function that takes in an image and returns the prediction\n",
    "\n",
    "def predict(model, image):\n",
    "    model.eval()\n",
    "    image = image.to(device)\n",
    "    image = image.unsqueeze(0)\n",
    "    output = model(image)\n",
    "    predicted = torch.max(output.data, 1)[1]\n",
    "    return predicted\n",
    "\n",
    "\n",
    "    # Get one image from the test dataset\n",
    "image, label = next(iter(test_loader))\n",
    "image = image[0].view(1, 28, 28)\n",
    "pred = predict(model, image)\n",
    "print(f'Label: {letters[label[0].item()]}')\n",
    "\n",
    "plt.imshow(image.squeeze(), cmap='gray')\n",
    "plt.axis('off')\n",
    "plt.show()\n",
    "\n",
    "print(f'Prediction: {letters[pred.item()]}')\n"
   ]
  },
  {
   "cell_type": "code",
   "execution_count": 107,
   "metadata": {},
   "outputs": [],
   "source": [
    "## save model\n",
    "torch.save(model.state_dict(), 'sign_language_model.pt')"
   ]
  }
 ],
 "metadata": {
  "kernelspec": {
   "display_name": "Python 3",
   "language": "python",
   "name": "python3"
  },
  "language_info": {
   "codemirror_mode": {
    "name": "ipython",
    "version": 3
   },
   "file_extension": ".py",
   "mimetype": "text/x-python",
   "name": "python",
   "nbconvert_exporter": "python",
   "pygments_lexer": "ipython3",
   "version": "3.12.1"
  }
 },
 "nbformat": 4,
 "nbformat_minor": 2
}
